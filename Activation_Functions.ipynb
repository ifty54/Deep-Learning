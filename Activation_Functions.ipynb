{
  "nbformat": 4,
  "nbformat_minor": 0,
  "metadata": {
    "colab": {
      "provenance": []
    },
    "kernelspec": {
      "name": "python3",
      "display_name": "Python 3"
    },
    "language_info": {
      "name": "python"
    }
  },
  "cells": [
    {
      "cell_type": "markdown",
      "source": [
        "#Activation Functions for Neural Networks"
      ],
      "metadata": {
        "id": "sE7IUmwbU3D0"
      }
    },
    {
      "cell_type": "markdown",
      "source": [
        "###Sigmoid\n",
        "![3.png](data:image/png;base64,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)"
      ],
      "metadata": {
        "id": "h0H_4v3FURkp"
      }
    },
    {
      "cell_type": "code",
      "source": [
        "import math\n",
        "\n",
        "def sigmoid(x):\n",
        "  return 1/(1+math.exp(-x))"
      ],
      "metadata": {
        "id": "-78LzbzaShba"
      },
      "execution_count": 1,
      "outputs": []
    },
    {
      "cell_type": "code",
      "source": [
        "sigmoid(23)"
      ],
      "metadata": {
        "colab": {
          "base_uri": "https://localhost:8080/"
        },
        "id": "ILn-ksg0Vj2-",
        "outputId": "742e4c13-d4b8-496b-a063-e5f1280dcb5a"
      },
      "execution_count": 2,
      "outputs": [
        {
          "output_type": "execute_result",
          "data": {
            "text/plain": [
              "0.9999999998973812"
            ]
          },
          "metadata": {},
          "execution_count": 2
        }
      ]
    },
    {
      "cell_type": "code",
      "source": [
        "sigmoid(-4)"
      ],
      "metadata": {
        "colab": {
          "base_uri": "https://localhost:8080/"
        },
        "id": "XE8OplsuVnlz",
        "outputId": "09a9a85b-c27b-43bc-87d1-9d99eeb8d425"
      },
      "execution_count": 3,
      "outputs": [
        {
          "output_type": "execute_result",
          "data": {
            "text/plain": [
              "0.01798620996209156"
            ]
          },
          "metadata": {},
          "execution_count": 3
        }
      ]
    },
    {
      "cell_type": "markdown",
      "source": [
        "###tanh\n",
        "![2.png](data:image/png;base64,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)"
      ],
      "metadata": {
        "id": "vv4ULdvUUQLK"
      }
    },
    {
      "cell_type": "code",
      "source": [
        "def tanh(x):\n",
        "  return (math.exp(x)-math.exp(-x))/(math.exp(x)+math.exp(-x))"
      ],
      "metadata": {
        "id": "CLiFbNi_V2Bg"
      },
      "execution_count": 4,
      "outputs": []
    },
    {
      "cell_type": "code",
      "source": [
        "tanh(54)"
      ],
      "metadata": {
        "colab": {
          "base_uri": "https://localhost:8080/"
        },
        "id": "dSK9YwhHWHTz",
        "outputId": "6b2c7746-23f3-4b41-e7ff-739e9899fbd2"
      },
      "execution_count": 5,
      "outputs": [
        {
          "output_type": "execute_result",
          "data": {
            "text/plain": [
              "1.0"
            ]
          },
          "metadata": {},
          "execution_count": 5
        }
      ]
    },
    {
      "cell_type": "code",
      "source": [
        "tanh(-43)"
      ],
      "metadata": {
        "colab": {
          "base_uri": "https://localhost:8080/"
        },
        "id": "N4hp6d5OWJPG",
        "outputId": "4329b8e3-b674-44fb-a4e7-b72edfa4327d"
      },
      "execution_count": 6,
      "outputs": [
        {
          "output_type": "execute_result",
          "data": {
            "text/plain": [
              "-1.0"
            ]
          },
          "metadata": {},
          "execution_count": 6
        }
      ]
    },
    {
      "cell_type": "markdown",
      "source": [
        "###ReLU\n",
        "![1.png](data:image/png;base64,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)"
      ],
      "metadata": {
        "id": "HkmlvZ2CT9G7"
      }
    },
    {
      "cell_type": "code",
      "source": [
        "def relu(x):\n",
        "  return max(0,x)"
      ],
      "metadata": {
        "id": "pnkn1T0nWNaC"
      },
      "execution_count": 7,
      "outputs": []
    },
    {
      "cell_type": "code",
      "source": [
        "relu(34)"
      ],
      "metadata": {
        "colab": {
          "base_uri": "https://localhost:8080/"
        },
        "id": "LL2dZ2ThWNA0",
        "outputId": "8592e84b-6eca-4e9b-9143-ccbf0f18ccc9"
      },
      "execution_count": 8,
      "outputs": [
        {
          "output_type": "execute_result",
          "data": {
            "text/plain": [
              "34"
            ]
          },
          "metadata": {},
          "execution_count": 8
        }
      ]
    },
    {
      "cell_type": "code",
      "source": [
        "relu(-76)"
      ],
      "metadata": {
        "colab": {
          "base_uri": "https://localhost:8080/"
        },
        "id": "j5Qw2FvJWTyw",
        "outputId": "74de47fb-5c61-4d0b-e979-a8fb4a199359"
      },
      "execution_count": 9,
      "outputs": [
        {
          "output_type": "execute_result",
          "data": {
            "text/plain": [
              "0"
            ]
          },
          "metadata": {},
          "execution_count": 9
        }
      ]
    },
    {
      "cell_type": "markdown",
      "source": [
        "###Leaky ReLU\n",
        "![4.png](data:image/png;base64,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)"
      ],
      "metadata": {
        "id": "cnmP00S8Ub6h"
      }
    },
    {
      "cell_type": "code",
      "execution_count": 10,
      "metadata": {
        "id": "KQCHaHk2RHOt"
      },
      "outputs": [],
      "source": [
        "def leakyrelu(x):\n",
        "  return max(0.1*x,x)"
      ]
    },
    {
      "cell_type": "code",
      "source": [
        "leakyrelu(40)"
      ],
      "metadata": {
        "colab": {
          "base_uri": "https://localhost:8080/"
        },
        "id": "2u3_ZIDsWcDd",
        "outputId": "43b9185a-3b05-4c19-bfff-9e1ca69f7813"
      },
      "execution_count": 11,
      "outputs": [
        {
          "output_type": "execute_result",
          "data": {
            "text/plain": [
              "40"
            ]
          },
          "metadata": {},
          "execution_count": 11
        }
      ]
    },
    {
      "cell_type": "code",
      "source": [
        "leakyrelu(-93)"
      ],
      "metadata": {
        "colab": {
          "base_uri": "https://localhost:8080/"
        },
        "id": "9a0Q-84cWfe5",
        "outputId": "15cf9a0e-45b4-4e6f-9d22-0843b2cb6f0e"
      },
      "execution_count": 12,
      "outputs": [
        {
          "output_type": "execute_result",
          "data": {
            "text/plain": [
              "-9.3"
            ]
          },
          "metadata": {},
          "execution_count": 12
        }
      ]
    },
    {
      "cell_type": "markdown",
      "source": [
        "##Remarks: These four activation functions are the most primary ones to use in hidden and output layers of neural networks.\n",
        "\n",
        "###`Sigmoid` is widely used. It's better to use in Output layers while hidden layers may include `tanh`.\n",
        "\n",
        "###While in confusion which functions to apply in hidden layers, `ReLU` comes handy. It can be the default choice to apply in hidden layers."
      ],
      "metadata": {
        "id": "QNVaUyDPWmoh"
      }
    }
  ]
}