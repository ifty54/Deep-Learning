{
  "nbformat": 4,
  "nbformat_minor": 0,
  "metadata": {
    "colab": {
      "provenance": []
    },
    "kernelspec": {
      "name": "python3",
      "display_name": "Python 3"
    },
    "language_info": {
      "name": "python"
    }
  },
  "cells": [
    {
      "cell_type": "code",
      "execution_count": 1,
      "metadata": {
        "id": "yKy470XdWtgL"
      },
      "outputs": [],
      "source": [
        "import numpy as np\n",
        "\n",
        "y_predicted = np.array([1,1,0,0,1])\n",
        "y_true = np.array([0.3,7,10.2,1,6])"
      ]
    },
    {
      "cell_type": "markdown",
      "source": [
        "##Mean Absolute Error (MAE)"
      ],
      "metadata": {
        "id": "c1u912DDYs1a"
      }
    },
    {
      "cell_type": "code",
      "source": [
        "def mae(y_true, y_predicted):\n",
        "  total_error = 0\n",
        "  for yt, yp in zip(y_true, y_predicted):\n",
        "    total_error += abs(yt - yp)\n",
        "  print(f\"Total Error: {total_error}\")\n",
        "  mae = total_error / len(y_true)\n",
        "  print(f\"MAE: {mae}\")\n",
        "  return mae"
      ],
      "metadata": {
        "id": "2X2UvwcIXCll"
      },
      "execution_count": 7,
      "outputs": []
    },
    {
      "cell_type": "code",
      "source": [
        "mae(y_true, y_predicted)"
      ],
      "metadata": {
        "colab": {
          "base_uri": "https://localhost:8080/"
        },
        "id": "tVN5mGPgXiH4",
        "outputId": "2dbf2d07-ede4-4758-fccc-a0316dc7df76"
      },
      "execution_count": 8,
      "outputs": [
        {
          "output_type": "stream",
          "name": "stdout",
          "text": [
            "Total Error: 22.9\n",
            "MAE: 4.58\n"
          ]
        },
        {
          "output_type": "execute_result",
          "data": {
            "text/plain": [
              "4.58"
            ]
          },
          "metadata": {},
          "execution_count": 8
        }
      ]
    },
    {
      "cell_type": "markdown",
      "source": [
        "##Mean Squared Error (MSE)"
      ],
      "metadata": {
        "id": "EQhpxrFrcueb"
      }
    },
    {
      "cell_type": "code",
      "source": [
        "def mse(y_true, y_predicted):\n",
        "  total_error = 0\n",
        "  for yt, yp in zip(y_true, y_predicted):\n",
        "    total_error += ((yt - yp)**2)\n",
        "  print(f\"Total Error: {total_error}\")\n",
        "  mse = total_error / len(y_true)\n",
        "  print(f\"MSE: {mse}\")\n",
        "  return mse"
      ],
      "metadata": {
        "id": "AAq2W6PIcQKA"
      },
      "execution_count": 22,
      "outputs": []
    },
    {
      "cell_type": "code",
      "source": [
        "mse(y_true, y_predicted)"
      ],
      "metadata": {
        "colab": {
          "base_uri": "https://localhost:8080/"
        },
        "id": "yKnDSojpccKO",
        "outputId": "bc37c4b5-304d-40cd-f81e-b7db7258cb86"
      },
      "execution_count": 23,
      "outputs": [
        {
          "output_type": "stream",
          "name": "stdout",
          "text": [
            "Total Error: 166.53\n",
            "MSE: 33.306\n"
          ]
        },
        {
          "output_type": "execute_result",
          "data": {
            "text/plain": [
              "33.306"
            ]
          },
          "metadata": {},
          "execution_count": 23
        }
      ]
    },
    {
      "cell_type": "markdown",
      "source": [
        "##BCE (Binary Cross Entropy) or Log Loss Function"
      ],
      "metadata": {
        "id": "NSzqQQ9VcEu5"
      }
    },
    {
      "cell_type": "markdown",
      "source": [
        "###log(0) is problematic as it gives value inf.\n",
        "###so, data manipulation through epsilon is required which takes values very closer to 0 or 1."
      ],
      "metadata": {
        "id": "Ggcj5Io_ZzMr"
      }
    },
    {
      "cell_type": "code",
      "source": [
        "epsilon = 1e-15"
      ],
      "metadata": {
        "id": "h1MqE7Y-ZyFS"
      },
      "execution_count": 9,
      "outputs": []
    },
    {
      "cell_type": "code",
      "source": [
        "y_predicted_new = [max(i,epsilon) for i in y_predicted]\n",
        "y_predicted_new"
      ],
      "metadata": {
        "colab": {
          "base_uri": "https://localhost:8080/"
        },
        "id": "Udy8zoCIaInm",
        "outputId": "1f045397-4464-4a91-949e-ac727feb0651"
      },
      "execution_count": 13,
      "outputs": [
        {
          "output_type": "execute_result",
          "data": {
            "text/plain": [
              "[1, 1, 1e-15, 1e-15, 1]"
            ]
          },
          "metadata": {},
          "execution_count": 13
        }
      ]
    },
    {
      "cell_type": "code",
      "source": [
        "y_predicted_new = [min(i,1-epsilon) for i in y_predicted_new]\n",
        "y_predicted_new"
      ],
      "metadata": {
        "colab": {
          "base_uri": "https://localhost:8080/"
        },
        "id": "wFF5JkxRaVDN",
        "outputId": "8735d9d2-ea46-4d6a-936a-71bb539f885d"
      },
      "execution_count": 14,
      "outputs": [
        {
          "output_type": "execute_result",
          "data": {
            "text/plain": [
              "[0.999999999999999, 0.999999999999999, 1e-15, 1e-15, 0.999999999999999]"
            ]
          },
          "metadata": {},
          "execution_count": 14
        }
      ]
    },
    {
      "cell_type": "code",
      "source": [
        "y_predicted_new = np.array(y_predicted_new)\n",
        "np.log(y_predicted_new)"
      ],
      "metadata": {
        "colab": {
          "base_uri": "https://localhost:8080/"
        },
        "id": "-m5k_Y9aaixY",
        "outputId": "c306a4dc-d628-4b58-abac-0f8be1bab1fe"
      },
      "execution_count": 15,
      "outputs": [
        {
          "output_type": "execute_result",
          "data": {
            "text/plain": [
              "array([-9.99200722e-16, -9.99200722e-16, -3.45387764e+01, -3.45387764e+01,\n",
              "       -9.99200722e-16])"
            ]
          },
          "metadata": {},
          "execution_count": 15
        }
      ]
    },
    {
      "cell_type": "code",
      "source": [
        "-np.mean(y_true*np.log(y_predicted_new)+(1-y_true)*np.log(1-y_predicted_new))"
      ],
      "metadata": {
        "colab": {
          "base_uri": "https://localhost:8080/"
        },
        "id": "teJMo5NhasKi",
        "outputId": "56f98c22-7598-47cb-98d3-338443f56597"
      },
      "execution_count": 17,
      "outputs": [
        {
          "output_type": "execute_result",
          "data": {
            "text/plain": [
              "6.215332580377714"
            ]
          },
          "metadata": {},
          "execution_count": 17
        }
      ]
    },
    {
      "cell_type": "markdown",
      "source": [
        "###If I combine all of the above steps of bce on a function, here it goes:"
      ],
      "metadata": {
        "id": "tMydWf8Cb8tT"
      }
    },
    {
      "cell_type": "code",
      "source": [
        "def bce(y_true, y_predicted):\n",
        "  epsilon = 1e-15\n",
        "  y_predicted_new = [max(i,epsilon) for i in y_predicted]\n",
        "  y_predicted_new = [min(i,1-epsilon) for i in y_predicted_new]\n",
        "  y_predicted_new = np.array(y_predicted_new)\n",
        "  return -np.mean(y_true*np.log(y_predicted_new)+(1-y_true)*np.log(1-y_predicted_new))"
      ],
      "metadata": {
        "id": "CSS0KD5FbS5R"
      },
      "execution_count": 18,
      "outputs": []
    },
    {
      "cell_type": "code",
      "source": [
        "bce(y_true, y_predicted)"
      ],
      "metadata": {
        "colab": {
          "base_uri": "https://localhost:8080/"
        },
        "id": "E8d9ngilbymu",
        "outputId": "e6c53e09-ef41-43d8-b874-6f2e4cf8d609"
      },
      "execution_count": 19,
      "outputs": [
        {
          "output_type": "execute_result",
          "data": {
            "text/plain": [
              "6.215332580377714"
            ]
          },
          "metadata": {},
          "execution_count": 19
        }
      ]
    }
  ]
}